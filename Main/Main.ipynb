{
 "cells": [
  {
   "cell_type": "markdown",
   "metadata": {
    "id": "f2Z87ndxKVhc"
   },
   "source": [
    "# Best Model Load"
   ]
  },
  {
   "cell_type": "code",
   "execution_count": 5,
   "metadata": {
    "id": "aC0Uhs3RKrm-"
   },
   "outputs": [],
   "source": [
    "#Set path = Path of model_64.h5 file\n",
    "path = \"/content/drive/MyDrive/Minor Project 3/Checkpoints/Success 2/model_64[1].h5\""
   ]
  },
  {
   "cell_type": "code",
   "execution_count": 6,
   "metadata": {
    "id": "4MCjC-W2KZ4U"
   },
   "outputs": [],
   "source": [
    "#Loading and compiling the model\n",
    "x =Input(shape=(frame, row, col))\n",
    "encoded_rows = TimeDistributed(LSTM(row_hidden))(x) \n",
    "encoded_columns =LSTM(col_hidden)(encoded_rows)\n",
    "\n",
    "layer2 = Dense(128, activation='relu')(encoded_columns)\n",
    "layer3 = Dropout(.2)(layer2)\n",
    "layer4 = Dense(64, activation='relu')(layer3)\n",
    "layer5 = Dropout(.2)(layer4)\n",
    "prediction = Dense(num_classes, activation='softmax')(layer5)\n",
    "\n",
    "model = Model(x, prediction)\n",
    "model.load_weights(path)"
   ]
  },
  {
   "cell_type": "code",
   "execution_count": 7,
   "metadata": {
    "colab": {
     "base_uri": "https://localhost:8080/"
    },
    "id": "6RvbFUAZLozt",
    "outputId": "c6a0dd1d-5011-4b26-95b2-8ef0d523dfb5"
   },
   "outputs": [
    {
     "name": "stdout",
     "output_type": "stream",
     "text": [
      "Model: \"model\"\n",
      "_________________________________________________________________\n",
      "Layer (type)                 Output Shape              Param #   \n",
      "=================================================================\n",
      "input_2 (InputLayer)         [(None, 99, 144, 256)]    0         \n",
      "_________________________________________________________________\n",
      "time_distributed_1 (TimeDist (None, 99, 128)           197120    \n",
      "_________________________________________________________________\n",
      "lstm_3 (LSTM)                (None, 128)               131584    \n",
      "_________________________________________________________________\n",
      "dense (Dense)                (None, 128)               16512     \n",
      "_________________________________________________________________\n",
      "dropout (Dropout)            (None, 128)               0         \n",
      "_________________________________________________________________\n",
      "dense_1 (Dense)              (None, 64)                8256      \n",
      "_________________________________________________________________\n",
      "dropout_1 (Dropout)          (None, 64)                0         \n",
      "_________________________________________________________________\n",
      "dense_2 (Dense)              (None, 2)                 130       \n",
      "=================================================================\n",
      "Total params: 353,602\n",
      "Trainable params: 353,602\n",
      "Non-trainable params: 0\n",
      "_________________________________________________________________\n"
     ]
    }
   ],
   "source": [
    "model.compile(loss='categorical_crossentropy', optimizer='NAdam', metrics=['accuracy']) \n",
    "model.summary()"
   ]
  },
  {
   "cell_type": "markdown",
   "metadata": {
    "id": "bKP1fbJfJvhH"
   },
   "source": [
    "# Alert System"
   ]
  },
  {
   "cell_type": "code",
   "execution_count": 123,
   "metadata": {
    "id": "wmCVK72AZ6-5"
   },
   "outputs": [],
   "source": [
    "def send_alertt(flag, camera_number):\n",
    "  \n",
    "  print('Prediction Probabilities are\\nNegative = ', flag[0][0],'\\nPositive = ',flag[0][1])\n",
    "\n",
    "  if(flag[0][1] > 0.6):\n",
    "    print('Accident Detected\\n')\n",
    "    send_alert(camera_number)\n",
    "  else:\n",
    "    print('No accident')"
   ]
  },
  {
   "cell_type": "code",
   "execution_count": null,
   "metadata": {
    "id": "a0AictBv8i3E"
   },
   "outputs": [],
   "source": []
  },
  {
   "cell_type": "code",
   "execution_count": 127,
   "metadata": {
    "colab": {
     "base_uri": "https://localhost:8080/"
    },
    "id": "Ur5lqwmzfizI",
    "outputId": "acf53479-c5df-4483-9c60-a4d9f674d87e"
   },
   "outputs": [
    {
     "name": "stdout",
     "output_type": "stream",
     "text": [
      "Prediction Probabilities are\n",
      "Negative =  0.52326816 \n",
      "Positive =  0.47673184\n",
      "No accident\n"
     ]
    }
   ],
   "source": [
    "#path = \"/content/drive/MyDrive/Minor Project 3/Run Cases/Positive/\"\n",
    "path = \"/content/drive/MyDrive/Minor Project 3/Run Cases/Negative/\"\n",
    "video_name = '104.mp4'\n",
    "\n",
    "camera_number = 1\n",
    "\n",
    "cap = cv2.VideoCapture(path+video_name)\n",
    "property_id = int(cv2.CAP_PROP_FRAME_COUNT) \n",
    "length = int(cv2.VideoCapture.get(cap, property_id))\n",
    "count = 0\n",
    "success = 1\n",
    "\n",
    "#print(length)\n",
    "\n",
    "if length > 100:\n",
    "  cut = length-99\n",
    "else:\n",
    "  cut = 0\n",
    "\n",
    "#os.chdir(\"/content/drive/MyDrive/Minor Project 3/Run Cases/Frames/\")\n",
    "#dir =  path+'/'+video_name\n",
    "#os.mkdir(video_name)\n",
    "#os.chdir(\"/content/drive/MyDrive/Minor Project 3/Run Cases/Frames/\"+video_name)\n",
    "\n",
    "video_ready = []\n",
    "\n",
    "for i in range(length):\n",
    "  success, image = cap.read()\n",
    "  #print(success)\n",
    "  if count >= cut :\n",
    "    n = count-cut\n",
    "    #cv2.imwrite(str(n)+'.jpg', image)\n",
    "    tmp = skimage.color.rgb2gray(np.array(image))\n",
    "    tmp = transform.resize(tmp, (144, 256))\n",
    "    video_ready.append(tmp)\n",
    "  count += 1\n",
    "\n",
    "#path = \"/content/drive/MyDrive/Minor Project 3/Run Cases/Frames/\"\n",
    "#cur_video = glob.glob(path + '*.mp4') \n",
    "\n",
    "#video_ready = make_dataset(cur_video)\n",
    "\n",
    "video_ready = [video_ready]\n",
    "video_ready = np.array(video_ready)\n",
    "\n",
    "video_ready.shape\n",
    "\n",
    "flag = model.predict(video_ready)\n",
    "\n",
    "print_accuracy(flag, camera_number)"
   ]
  },
  {
   "cell_type": "code",
   "execution_count": 122,
   "metadata": {
    "id": "1vSHIehsEv01"
   },
   "outputs": [],
   "source": [
    "import pandas as pd\n",
    "import smtplib\n",
    "import os\n",
    "\n",
    "'''\n",
    "Change these to your credentials and name\n",
    "\n",
    "'''\n",
    "\n",
    "def send_alert(camera_number):\n",
    "  your_email = 'minorproject888@gmail.com'\n",
    "  your_password = 'dssvouztedbhbrjt'\n",
    "\n",
    "  # If you are using something other than gmail\n",
    "  # then change the 'smtp.gmail.com' and 465 in the line below\n",
    "  server = smtplib.SMTP_SSL('smtp.gmail.com', 465)\n",
    "  server.ehlo()\n",
    "  server.login(your_email, your_password)\n",
    "\n",
    "  # Read the file\n",
    "  email_list = pd.read_excel(\"/content/drive/MyDrive/Minor Project 3/Email/EmailL.xlsx\")\n",
    "  camera = pd.read_excel(\"/content/drive/MyDrive/Minor Project 3/Email/Cameras.xlsx\")\n",
    "\n",
    "  gps_location = camera.loc[camera_number]\n",
    "\n",
    "  # Get all the Names, Email Addreses, Subjects and Messages\n",
    "  all_emails = email_list['Email']\n",
    "\n",
    "  # Loop through the emails\n",
    "  for idx in range(len(all_emails)):\n",
    "\n",
    "      # Get each records name, email, subject and message\n",
    "      email = all_emails[idx]\n",
    "      subject = 'Requesting Immediate Help'\n",
    "      message = 'Urgent - An accident has occurred.\\nLocation -> ' + str(gps_location['Location']) + '\\nGoogle Maps Link -> ' + str(gps_location['GPS Link'])\n",
    "      # Create the email to send\n",
    "      full_email = (\"From: <{0}>\\n\"\n",
    "                    \"To:  <{1}>\\n\"\n",
    "                    \"Subject: {2}\\n\\n\"\n",
    "                    \"{3}\"\n",
    "                    .format(your_email, email, subject, message))\n",
    "\n",
    "      # In the email field, you can add multiple other emails if you want\n",
    "      # all of them to receive the same text\n",
    "      try:\n",
    "          server.sendmail(your_email, [email], full_email)\n",
    "          print('Email to {} successfully sent!\\n'.format(email))\n",
    "      except Exception as e:\n",
    "          print('Email to {} could not be sent :( because {}\\n\\n'.format(email, str(e)))\n",
    "\n",
    "  # Close the smtp server\n",
    "  server.close()"
   ]
  },
  {
   "cell_type": "code",
   "execution_count": 111,
   "metadata": {
    "colab": {
     "base_uri": "https://localhost:8080/"
    },
    "id": "NLA9TGejxKUM",
    "outputId": "d79d536b-a91b-432a-b6a8-c66a9ecfc474"
   },
   "outputs": [
    {
     "data": {
      "text/plain": [
       "Camera Number                                         2\n",
       "Location         Gopal Nagar, Model Town, Delhi, 110009\n",
       "GPS Link          https://goo.gl/maps/NFPbfA7jwQxLZ5Ro6\n",
       "Name: 1, dtype: object"
      ]
     },
     "execution_count": 111,
     "metadata": {
      "tags": []
     },
     "output_type": "execute_result"
    }
   ],
   "source": [
    "camera_number = 1\n",
    "camera = pd.read_excel(\"/content/drive/MyDrive/Minor Project 3/Email/Cameras.xlsx\")\n",
    "\n",
    "gps_location = camera.loc[camera_number]\n",
    "gps_location"
   ]
  }
 ],
 "metadata": {
  "accelerator": "GPU",
  "colab": {
   "collapsed_sections": [
    "gr5ehALHjj4h",
    "_H-7gPuEOGkC",
    "nKZkfJN3ONxV",
    "UlBHjVyJOYTQ",
    "38bKrd62qt3N",
    "hU5SXpVbNL05",
    "aeUsV-UAdl0x",
    "4gcrGxYKkRUI",
    "IxpbmgDG-qaW",
    "A2F6bwQsaQ49",
    "L73Vx1kT-z0P",
    "h_oFFTA6AECx",
    "xXou-V-wfsbW",
    "eK9rsoSNAPqG",
    "f2Z87ndxKVhc",
    "bKP1fbJfJvhH"
   ],
   "machine_shape": "hm",
   "name": "Minor Project 3.ipynb",
   "provenance": []
  },
  "kernelspec": {
   "display_name": "Python 3",
   "language": "python",
   "name": "python3"
  },
  "language_info": {
   "codemirror_mode": {
    "name": "ipython",
    "version": 3
   },
   "file_extension": ".py",
   "mimetype": "text/x-python",
   "name": "python",
   "nbconvert_exporter": "python",
   "pygments_lexer": "ipython3",
   "version": "3.7.4"
  }
 },
 "nbformat": 4,
 "nbformat_minor": 1
}
